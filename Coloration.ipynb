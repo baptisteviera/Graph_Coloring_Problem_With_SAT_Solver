{
 "cells": [
  {
   "cell_type": "code",
   "execution_count": 1,
   "metadata": {
    "collapsed": true
   },
   "outputs": [],
   "source": [
    "import itertools"
   ]
  },
  {
   "cell_type": "markdown",
   "source": [
    "### Graphe codé avec un dictionnaire avec la matrice d'adajacence"
   ],
   "metadata": {
    "collapsed": false,
    "pycharm": {
     "name": "#%% md\n"
    }
   }
  },
  {
   "cell_type": "code",
   "execution_count": 2,
   "outputs": [],
   "source": [
    "graph_test = dict()\n",
    "graph_test[1]=[2,5,6]\n",
    "graph_test[2]=[1,3,7]\n",
    "graph_test[3]=[2,4,8]\n",
    "graph_test[4]=[3,5,9]\n",
    "graph_test[5]=[1,4,10]\n",
    "graph_test[6]=[1,8,9]\n",
    "graph_test[7]=[2,9,10]\n",
    "graph_test[8]=[3,6,10]\n",
    "graph_test[9]=[4,6,7]\n",
    "graph_test[10]=[5,7,8]\n"
   ],
   "metadata": {
    "collapsed": false,
    "pycharm": {
     "name": "#%%\n"
    }
   }
  },
  {
   "cell_type": "code",
   "execution_count": 3,
   "outputs": [],
   "source": [
    "graph_2 = dict()\n",
    "graph_2[1]=[2,3]\n",
    "graph_2[2]=[3,1]\n",
    "graph_2[3]=[2,1]"
   ],
   "metadata": {
    "collapsed": false,
    "pycharm": {
     "name": "#%%\n"
    }
   }
  },
  {
   "cell_type": "markdown",
   "source": [
    "### Correspondance entre les variables propositionnelles et les variables dimacs"
   ],
   "metadata": {
    "collapsed": false,
    "pycharm": {
     "name": "#%% md\n"
    }
   }
  },
  {
   "cell_type": "code",
   "execution_count": 4,
   "outputs": [],
   "source": [
    "variablesDico = {0: 0}\n",
    "couleur = [\"R\",\"G\",\"B\"]\n",
    "def dict_variable(graph):\n",
    "    nbSommets = len(graph)\n",
    "    #print(nbSommets)\n",
    "    variables = [\"S\"+str(i)+c for i in range(1,nbSommets+1) for c in couleur]\n",
    "    nbVariables = len(variables) # nb de variables propositionnelles\n",
    "    #print(nbVariables)\n",
    "    for i in range(1,nbVariables):\n",
    "        variablesDico[i]=variables[i-1]\n",
    "    #print(variablesDico)\n",
    "    return variablesDico"
   ],
   "metadata": {
    "collapsed": false,
    "pycharm": {
     "name": "#%%\n"
    }
   }
  },
  {
   "cell_type": "code",
   "execution_count": 5,
   "outputs": [
    {
     "name": "stdout",
     "output_type": "stream",
     "text": [
      "{0: 0, 1: 'S1R', 2: 'S1G', 3: 'S1B', 4: 'S2R', 5: 'S2G', 6: 'S2B', 7: 'S3R', 8: 'S3G', 9: 'S3B', 10: 'S4R', 11: 'S4G', 12: 'S4B', 13: 'S5R', 14: 'S5G', 15: 'S5B', 16: 'S6R', 17: 'S6G', 18: 'S6B', 19: 'S7R', 20: 'S7G', 21: 'S7B', 22: 'S8R', 23: 'S8G', 24: 'S8B', 25: 'S9R', 26: 'S9G', 27: 'S9B', 28: 'S10R', 29: 'S10G'}\n"
     ]
    }
   ],
   "source": [
    "dict_variable(graph_test)\n",
    "print(variablesDico)"
   ],
   "metadata": {
    "collapsed": false,
    "pycharm": {
     "name": "#%%\n"
    }
   }
  },
  {
   "cell_type": "code",
   "execution_count": 40,
   "outputs": [],
   "source": [
    "combinaisonTotale=[]\n",
    "def CreateFileDimacs(graph):\n",
    "    nbSommets = len(graph)\n",
    "    variables = [\"S\"+str(i)+c for i in range(1,nbSommets+1) for c in couleur]\n",
    "    nbVariables = len(variables) # nb de variables propositionnelles\n",
    "    nbClauses = (nbSommets*len(couleur))*2+nbSommets;\n",
    "    with open (\"colorationPlusieursSommets.cnf\",\"w\") as file: # permet de ne pas mettre le close\n",
    "        file.write(\"p cnf {} {}\\n\".format(nbVariables,nbSommets))\n",
    "\n",
    "        # Chaque sommet doit être colorié par une couleur\n",
    "        compteur = 1; # permet de calculer les sommets\n",
    "        for i in range(1,nbSommets+1):\n",
    "            for c in couleur:\n",
    "                file.write(\"{} \".format(compteur))\n",
    "                compteur+=1\n",
    "            file.write(\"0\\n\")\n",
    "\n",
    "        # Chaque sommet ne peut être colorié qu'avec une seule couleur\n",
    "        for i in range(1, nbVariables+1,len(couleur)): # pas de 3 car 3 couleurs et attention on prend le nombre de variables pas le nombre de sommets\n",
    "            # on gère les trois équivalences pour un sommet donné en une seule instruction comme on connait le resultat\n",
    "            combinaisonSommet = [] # super important de mettre une liste pour gérer les nombres > 9\n",
    "            for j in range(i,i+len(couleur)): # attention pas de -1 ici\n",
    "                combinaisonSommet.append(j) # attention ici c'est j qu'il faut utiliser\n",
    "            print(combinaisonSommet)\n",
    "\n",
    "            list_duo = list(itertools.combinations(combinaisonSommet,2)) # on convertit en liste important\n",
    "\n",
    "            print(list_duo)\n",
    "            for duo in list_duo:\n",
    "                file.write(\"-{} -{} 0\\n\".format(duo[0],duo[1])) # on lit les tuples qui sont en réalité mes clauses\n",
    "\n",
    "\n",
    "        for i in range(1,nbSommets+1):\n",
    "\n",
    "            print(i)\n",
    "            file.write(\"c\\n\") # on lit les tuples qui sont en réalité mes clauses\n",
    "\n",
    "            listSuccesseurEtSommet = [i] # au début j'avais liste vide ici\n",
    "\n",
    "            for j in range(1,nbSommets+1):\n",
    "                if j in graph[i]:\n",
    "                    listSuccesseurEtSommet.append(j)\n",
    "                print(listSuccesseurEtSommet)\n",
    "\n",
    "\n",
    "            compteurCouleur = 0;\n",
    "\n",
    "            for c in couleur:\n",
    "                combinaisonSommet = [] #i+compteurCouleur\n",
    "\n",
    "                combinaisonSommet += [(element * 3) - 2 + compteurCouleur for element in listSuccesseurEtSommet]\n",
    "                compteurCouleur+=1\n",
    "                # Ex : S2R position 2 / S5R position 13 / S6R position 16\n",
    "\n",
    "                list_duo = list(itertools.combinations(combinaisonSommet,2)) # on convertit en liste important\n",
    "                print(list_duo)\n",
    "                for duo in list_duo:\n",
    "                    file.write(\"-{} -{} 0\\n\".format(duo[0],duo[1])) # on lit les tuples qui sont en réalité mes clauses\n",
    "\n",
    "\n",
    "\n"
   ],
   "metadata": {
    "collapsed": false,
    "pycharm": {
     "name": "#%%\n"
    }
   }
  },
  {
   "cell_type": "code",
   "execution_count": null,
   "outputs": [],
   "source": [
    "def CreateFileDimacs(graph):\n",
    "    nbSommets = len(graph)\n",
    "    variables = [\"S\"+str(i)+c for i in range(1,nbSommets+1) for c in couleur]\n",
    "    nbVariables = len(variables) # nb de variables propositionnelles\n",
    "    nbClauses = (nbSommets*len(couleur))*2+nbSommets;\n",
    "    with open (\"colorationPlusieursSommets.cnf\",\"w\") as file: # permet de ne pas mettre le close\n",
    "        file.write(\"p cnf {} {}\\n\".format(nbVariables,nbSommets))\n",
    "\n",
    "        # Chaque sommet doit être colorié par une couleur\n",
    "        compteur = 1; # permet de calculer les sommets\n",
    "        for i in range(1,nbSommets+1):\n",
    "            for c in couleur:\n",
    "                file.write(\"{} \".format(compteur))\n",
    "                compteur+=1\n",
    "            file.write(\"0\\n\")\n",
    "\n",
    "        # Chaque sommet ne peut être colorié qu'avec une seule couleur\n",
    "        for i in range(1, nbVariables+1,len(couleur)): # pas de 3 car 3 couleurs et attention on prend le nombre de variables pas le nombre de sommets\n",
    "            # on gère les trois équivalences pour un sommet donné en une seule instruction comme on connait le resultat\n",
    "            combinaisonSommet = [] # super important de mettre une liste pour gérer les nombres > 9\n",
    "            for j in range(i,i+len(couleur)): # attention pas de -1 ici\n",
    "                combinaisonSommet.append(j) # attention ici c'est j qu'il faut utiliser\n",
    "            print(combinaisonSommet)\n",
    "\n",
    "            list_duo = list(itertools.combinations(combinaisonSommet,2)) # on convertit en liste important\n",
    "\n",
    "            print(list_duo)\n",
    "            for duo in list_duo:\n",
    "                file.write(\"-{} -{} 0\\n\".format(duo[0],duo[1])) # on lit les tuples qui sont en réalité mes clauses\n",
    "\n",
    "\n",
    "        for i in range(1,nbSommets+1):\n",
    "\n",
    "            print(i)\n",
    "            file.write(\"c\\n\") # on lit les tuples qui sont en réalité mes clauses\n",
    "\n",
    "            listSuccesseurEtSommet = [i] # au début j'avais liste vide ici\n",
    "\n",
    "            for j in range(1,nbSommets+1):\n",
    "                if j in graph[i]:\n",
    "                    listSuccesseurEtSommet.append(j)\n",
    "                print(listSuccesseurEtSommet)\n",
    "\n",
    "\n",
    "            compteurCouleur = 0;\n",
    "\n",
    "            for c in couleur:\n",
    "                combinaisonSommet = [] #i+compteurCouleur\n",
    "\n",
    "                combinaisonSommet += [(element * 3) - 2 + compteurCouleur for element in listSuccesseurEtSommet]\n",
    "                compteurCouleur+=1\n",
    "                # Ex : S2R position 2 / S5R position 13 / S6R position 16\n",
    "\n",
    "                list_duo = list(itertools.combinations(combinaisonSommet,2)) # on convertit en liste important\n",
    "\n",
    "                \"\"\"if combinaisonTotale == []:\n",
    "                    combinaisonTotale = list_duo\n",
    "\n",
    "                else:\n",
    "                    for tuple in list_duo:\n",
    "                        if tuple[0] =\n",
    "\n",
    "                \"\"\"\n",
    "\n",
    "\n",
    "\n",
    "\n",
    "                print(list_duo)\n",
    "                for duo in list_duo:\n",
    "                    file.write(\"-{} -{} 0\\n\".format(duo[0],duo[1])) # on lit les tuples qui sont en réalité mes clauses\n",
    "\n",
    "\n"
   ],
   "metadata": {
    "collapsed": false,
    "pycharm": {
     "name": "#%%\n"
    }
   }
  },
  {
   "cell_type": "code",
   "execution_count": 38,
   "outputs": [],
   "source": [
    "### VERSION 2\n",
    "\n",
    "def CreateFileDimacsTroisSommetsAdjacent(graph):\n",
    "    nbSommets = len(graph)\n",
    "    variables = [\"S\"+str(i)+c for i in range(1,nbSommets+1) for c in couleur]\n",
    "    nbVariables = len(variables) # nb de variables propositionnelles\n",
    "    nbClauses = (nbSommets*len(couleur))*2+nbSommets;\n",
    "    with open (\"colorationTroisSommetsAdjacent.cnf\",\"w\") as file: # permet de ne pas mettre le close\n",
    "        file.write(\"p cnf {} {}\\n\".format(nbVariables,nbSommets))\n",
    "\n",
    "        # Chaque sommet doit être colorié par une couleur\n",
    "        compteur = 1; # permet de calculer les sommets\n",
    "        for i in range(1,nbSommets+1):\n",
    "            for c in couleur:\n",
    "                file.write(\"{} \".format(compteur))\n",
    "                compteur+=1\n",
    "            file.write(\"0\\n\")\n",
    "\n",
    "        # Chaque sommet ne peut être colorié qu'avec une seule couleur\n",
    "        for i in range(1, nbVariables+1,len(couleur)): # pas de 3 car 3 couleurs et attention on prend le nombre de variables pas le nombre de sommets\n",
    "            # on gère les trois équivalences pour un sommet donné en une seule instruction comme on connait le resultat\n",
    "            combinaisonSommet = [] # super important de mettre une liste pour gérer les nombres > 9\n",
    "            for j in range(i,i+len(couleur)): # attention pas de -1 ici\n",
    "                combinaisonSommet.append(j) # attention ici c'est j qu'il faut utiliser\n",
    "            print(combinaisonSommet)\n",
    "\n",
    "            list_duo = list(itertools.combinations(combinaisonSommet,2)) # on convertit en liste important\n",
    "\n",
    "            print(list_duo)\n",
    "            for duo in list_duo:\n",
    "                file.write(\"-{} -{} 0\\n\".format(duo[0],duo[1])) # on lit les tuples qui sont en réalité mes clauses\n",
    "\n",
    "\n",
    "\n",
    "    ## Dernierer regle très simple par rapport au cas de 10 sommets car ils sont tous adjacents\n",
    "#Donc si j'analyse le sommet 1 uniquement je déduis tous les autres pas besoin de faire une boucle\n",
    "\n",
    "        listSuccesseurEtSommet = [1] # au début j'avais liste vide ici\n",
    "        for element in graph[1]:\n",
    "            listSuccesseurEtSommet.append(element)\n",
    "        print(listSuccesseurEtSommet)\n",
    "\n",
    "\n",
    "        compteurCouleur = 0;\n",
    "\n",
    "        for c in couleur:\n",
    "            combinaisonSommet = [] #i+compteurCouleur\n",
    "\n",
    "            combinaisonSommet += [(element * 3) - 2 + compteurCouleur for element in listSuccesseurEtSommet]\n",
    "\n",
    "            compteurCouleur+=1\n",
    "            # Ex : S2R position 2 / S5R position 13 / S6R position 16\n",
    "\n",
    "            list_duo = list(itertools.combinations(combinaisonSommet,2)) # on convertit en liste important\n",
    "\n",
    "\n",
    "            print(list_duo)\n",
    "            for duo in list_duo:\n",
    "                file.write(\"-{} -{} 0\\n\".format(duo[0],duo[1])) # on lit les tuples qui sont en réalité mes clauses\n",
    "\n",
    "\n",
    "\n",
    "\n"
   ],
   "metadata": {
    "collapsed": false,
    "pycharm": {
     "name": "#%%\n"
    }
   }
  },
  {
   "cell_type": "code",
   "execution_count": null,
   "outputs": [],
   "source": [
    "\"\"\"\n",
    " if combinaisonTotale == []:\n",
    "                    combinaisonTotale = list_duo\n",
    "\n",
    "                else:\n",
    "                    for tuple in list_duo:\n",
    "                        if tuple[0]\n",
    "\n",
    "\"\"\""
   ],
   "metadata": {
    "collapsed": false,
    "pycharm": {
     "name": "#%%\n"
    }
   }
  },
  {
   "cell_type": "code",
   "execution_count": 41,
   "outputs": [
    {
     "name": "stdout",
     "output_type": "stream",
     "text": [
      "[1, 2, 3]\n",
      "[(1, 2), (1, 3), (2, 3)]\n",
      "[4, 5, 6]\n",
      "[(4, 5), (4, 6), (5, 6)]\n",
      "[7, 8, 9]\n",
      "[(7, 8), (7, 9), (8, 9)]\n",
      "[10, 11, 12]\n",
      "[(10, 11), (10, 12), (11, 12)]\n",
      "[13, 14, 15]\n",
      "[(13, 14), (13, 15), (14, 15)]\n",
      "[16, 17, 18]\n",
      "[(16, 17), (16, 18), (17, 18)]\n",
      "[19, 20, 21]\n",
      "[(19, 20), (19, 21), (20, 21)]\n",
      "[22, 23, 24]\n",
      "[(22, 23), (22, 24), (23, 24)]\n",
      "[25, 26, 27]\n",
      "[(25, 26), (25, 27), (26, 27)]\n",
      "[28, 29, 30]\n",
      "[(28, 29), (28, 30), (29, 30)]\n",
      "1\n",
      "[1]\n",
      "[1, 2]\n",
      "[1, 2]\n",
      "[1, 2]\n",
      "[1, 2, 5]\n",
      "[1, 2, 5, 6]\n",
      "[1, 2, 5, 6]\n",
      "[1, 2, 5, 6]\n",
      "[1, 2, 5, 6]\n",
      "[1, 2, 5, 6]\n",
      "[(1, 4), (1, 13), (1, 16), (4, 13), (4, 16), (13, 16)]\n",
      "[(2, 5), (2, 14), (2, 17), (5, 14), (5, 17), (14, 17)]\n",
      "[(3, 6), (3, 15), (3, 18), (6, 15), (6, 18), (15, 18)]\n",
      "2\n",
      "[2, 1]\n",
      "[2, 1]\n",
      "[2, 1, 3]\n",
      "[2, 1, 3]\n",
      "[2, 1, 3]\n",
      "[2, 1, 3]\n",
      "[2, 1, 3, 7]\n",
      "[2, 1, 3, 7]\n",
      "[2, 1, 3, 7]\n",
      "[2, 1, 3, 7]\n",
      "[(4, 1), (4, 7), (4, 19), (1, 7), (1, 19), (7, 19)]\n",
      "[(5, 2), (5, 8), (5, 20), (2, 8), (2, 20), (8, 20)]\n",
      "[(6, 3), (6, 9), (6, 21), (3, 9), (3, 21), (9, 21)]\n",
      "3\n",
      "[3]\n",
      "[3, 2]\n",
      "[3, 2]\n",
      "[3, 2, 4]\n",
      "[3, 2, 4]\n",
      "[3, 2, 4]\n",
      "[3, 2, 4]\n",
      "[3, 2, 4, 8]\n",
      "[3, 2, 4, 8]\n",
      "[3, 2, 4, 8]\n",
      "[(7, 4), (7, 10), (7, 22), (4, 10), (4, 22), (10, 22)]\n",
      "[(8, 5), (8, 11), (8, 23), (5, 11), (5, 23), (11, 23)]\n",
      "[(9, 6), (9, 12), (9, 24), (6, 12), (6, 24), (12, 24)]\n",
      "4\n",
      "[4]\n",
      "[4]\n",
      "[4, 3]\n",
      "[4, 3]\n",
      "[4, 3, 5]\n",
      "[4, 3, 5]\n",
      "[4, 3, 5]\n",
      "[4, 3, 5]\n",
      "[4, 3, 5, 9]\n",
      "[4, 3, 5, 9]\n",
      "[(10, 7), (10, 13), (10, 25), (7, 13), (7, 25), (13, 25)]\n",
      "[(11, 8), (11, 14), (11, 26), (8, 14), (8, 26), (14, 26)]\n",
      "[(12, 9), (12, 15), (12, 27), (9, 15), (9, 27), (15, 27)]\n",
      "5\n",
      "[5, 1]\n",
      "[5, 1]\n",
      "[5, 1]\n",
      "[5, 1, 4]\n",
      "[5, 1, 4]\n",
      "[5, 1, 4]\n",
      "[5, 1, 4]\n",
      "[5, 1, 4]\n",
      "[5, 1, 4]\n",
      "[5, 1, 4, 10]\n",
      "[(13, 1), (13, 10), (13, 28), (1, 10), (1, 28), (10, 28)]\n",
      "[(14, 2), (14, 11), (14, 29), (2, 11), (2, 29), (11, 29)]\n",
      "[(15, 3), (15, 12), (15, 30), (3, 12), (3, 30), (12, 30)]\n",
      "6\n",
      "[6, 1]\n",
      "[6, 1]\n",
      "[6, 1]\n",
      "[6, 1]\n",
      "[6, 1]\n",
      "[6, 1]\n",
      "[6, 1]\n",
      "[6, 1, 8]\n",
      "[6, 1, 8, 9]\n",
      "[6, 1, 8, 9]\n",
      "[(16, 1), (16, 22), (16, 25), (1, 22), (1, 25), (22, 25)]\n",
      "[(17, 2), (17, 23), (17, 26), (2, 23), (2, 26), (23, 26)]\n",
      "[(18, 3), (18, 24), (18, 27), (3, 24), (3, 27), (24, 27)]\n",
      "7\n",
      "[7]\n",
      "[7, 2]\n",
      "[7, 2]\n",
      "[7, 2]\n",
      "[7, 2]\n",
      "[7, 2]\n",
      "[7, 2]\n",
      "[7, 2]\n",
      "[7, 2, 9]\n",
      "[7, 2, 9, 10]\n",
      "[(19, 4), (19, 25), (19, 28), (4, 25), (4, 28), (25, 28)]\n",
      "[(20, 5), (20, 26), (20, 29), (5, 26), (5, 29), (26, 29)]\n",
      "[(21, 6), (21, 27), (21, 30), (6, 27), (6, 30), (27, 30)]\n",
      "8\n",
      "[8]\n",
      "[8]\n",
      "[8, 3]\n",
      "[8, 3]\n",
      "[8, 3]\n",
      "[8, 3, 6]\n",
      "[8, 3, 6]\n",
      "[8, 3, 6]\n",
      "[8, 3, 6]\n",
      "[8, 3, 6, 10]\n",
      "[(22, 7), (22, 16), (22, 28), (7, 16), (7, 28), (16, 28)]\n",
      "[(23, 8), (23, 17), (23, 29), (8, 17), (8, 29), (17, 29)]\n",
      "[(24, 9), (24, 18), (24, 30), (9, 18), (9, 30), (18, 30)]\n",
      "9\n",
      "[9]\n",
      "[9]\n",
      "[9]\n",
      "[9, 4]\n",
      "[9, 4]\n",
      "[9, 4, 6]\n",
      "[9, 4, 6, 7]\n",
      "[9, 4, 6, 7]\n",
      "[9, 4, 6, 7]\n",
      "[9, 4, 6, 7]\n",
      "[(25, 10), (25, 16), (25, 19), (10, 16), (10, 19), (16, 19)]\n",
      "[(26, 11), (26, 17), (26, 20), (11, 17), (11, 20), (17, 20)]\n",
      "[(27, 12), (27, 18), (27, 21), (12, 18), (12, 21), (18, 21)]\n",
      "10\n",
      "[10]\n",
      "[10]\n",
      "[10]\n",
      "[10]\n",
      "[10, 5]\n",
      "[10, 5]\n",
      "[10, 5, 7]\n",
      "[10, 5, 7, 8]\n",
      "[10, 5, 7, 8]\n",
      "[10, 5, 7, 8]\n",
      "[(28, 13), (28, 19), (28, 22), (13, 19), (13, 22), (19, 22)]\n",
      "[(29, 14), (29, 20), (29, 23), (14, 20), (14, 23), (20, 23)]\n",
      "[(30, 15), (30, 21), (30, 24), (15, 21), (15, 24), (21, 24)]\n"
     ]
    }
   ],
   "source": [
    "CreateFileDimacs(graph_test)"
   ],
   "metadata": {
    "collapsed": false,
    "pycharm": {
     "name": "#%%\n"
    }
   }
  },
  {
   "cell_type": "code",
   "execution_count": 39,
   "outputs": [
    {
     "name": "stdout",
     "output_type": "stream",
     "text": [
      "[1, 2, 3]\n",
      "[(1, 2), (1, 3), (2, 3)]\n",
      "[4, 5, 6]\n",
      "[(4, 5), (4, 6), (5, 6)]\n",
      "[7, 8, 9]\n",
      "[(7, 8), (7, 9), (8, 9)]\n",
      "[1, 2, 3]\n",
      "[(1, 4), (1, 7), (4, 7)]\n",
      "[(2, 5), (2, 8), (5, 8)]\n",
      "[(3, 6), (3, 9), (6, 9)]\n"
     ]
    }
   ],
   "source": [
    "CreateFileDimacsTroisSommetsAdjacent(graph_2)\n"
   ],
   "metadata": {
    "collapsed": false,
    "pycharm": {
     "name": "#%%\n"
    }
   }
  },
  {
   "cell_type": "markdown",
   "source": [
    "### Brouillon\n"
   ],
   "metadata": {
    "collapsed": false,
    "pycharm": {
     "name": "#%% md\n"
    }
   }
  },
  {
   "cell_type": "code",
   "execution_count": null,
   "outputs": [],
   "source": [
    "# [a, b, c] -> [callback(a), callback(b), callback(c)]\n",
    "def map(callback, liste):\n",
    "    nouvelle_liste = []\n",
    "    for element in liste:\n",
    "       nouvelle_liste.append(callback(element))\n",
    "    return nouvelle_liste\n",
    "\n",
    "def transformerListe(x,compteur): return (x*3)-2 + compteur"
   ],
   "metadata": {
    "collapsed": false,
    "pycharm": {
     "name": "#%%\n"
    }
   }
  }
 ],
 "metadata": {
  "kernelspec": {
   "display_name": "Python 3",
   "language": "python",
   "name": "python3"
  },
  "language_info": {
   "codemirror_mode": {
    "name": "ipython",
    "version": 2
   },
   "file_extension": ".py",
   "mimetype": "text/x-python",
   "name": "python",
   "nbconvert_exporter": "python",
   "pygments_lexer": "ipython2",
   "version": "2.7.6"
  }
 },
 "nbformat": 4,
 "nbformat_minor": 0
}